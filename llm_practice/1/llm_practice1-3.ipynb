{
 "cells": [
  {
   "cell_type": "code",
   "execution_count": 1,
   "id": "5c40ddd3",
   "metadata": {},
   "outputs": [],
   "source": [
    "import os\n",
    "from dotenv import load_dotenv\n",
    "from langchain_openai import ChatOpenAI \n",
    "\n",
    "\n",
    "load_dotenv()\n",
    "OPENAI_API_KEY = os.getenv(\"OPENAI_API_KEY\")"
   ]
  },
  {
   "cell_type": "code",
   "execution_count": 2,
   "id": "e41405d8",
   "metadata": {},
   "outputs": [],
   "source": [
    "# Groq API를 사용하는 ChatOpenAI 인스턴스 생성\n",
    "llm = ChatOpenAI(\n",
    "    api_key=OPENAI_API_KEY,\n",
    "    base_url=\"https://api.groq.com/openai/v1\",\n",
    "    model=\"meta-llama/llama-4-scout-17b-16e-instruct\",\n",
    "    temperature=0.7\n",
    ")"
   ]
  },
  {
   "cell_type": "code",
   "execution_count": 3,
   "id": "e86261ea",
   "metadata": {},
   "outputs": [],
   "source": [
    "from langchain_core.prompts import ChatPromptTemplate, FewShotChatMessagePromptTemplate\n",
    "from langchain_core.output_parsers import StrOutputParser\n",
    "llm = ChatOpenAI(\n",
    "    base_url=\"https://api.groq.com/openai/v1\",\n",
    "    model=\"meta-llama/llama-4-scout-17b-16e-instruct\",\n",
    "    temperature=0.7\n",
    ")"
   ]
  },
  {
   "cell_type": "code",
   "execution_count": 4,
   "id": "0902b4f3",
   "metadata": {},
   "outputs": [],
   "source": [
    "# 뉴스 키워드 추출 예시 데이터\n",
    "examples = [\n",
    "    {\n",
    "        \"news\": \"삼성전자가 내년 초에 자체적으로 개발한 인공지능(AI) 가속기를 처음으로 출시할 예정이다. 이는 AI 반도체 시장에서 지배적인 위치를 차지하고 있는 엔비디아의 독점을 도전하고, 세계 최고의 반도체 제조업체로서의 지위를 다시 확립하려는 삼성전자의 노력으로 해석된다.\",\n",
    "        \"keywords\": \"삼성전자, 인공지능, 엔비디아\"\n",
    "    },\n",
    "    {\n",
    "        \"news\": \"세계보건기구(WHO)는 최근 새로운 건강 위기에 대응하기 위해 국제 협력의 중요성을 강조했다. 전염병 대응 역량의 강화와 글로벌 보건 시스템의 개선이 필요하다고 발표했다.\",\n",
    "        \"keywords\": \"세계보건기구, 건강위기, 국제협력\"\n",
    "    },\n",
    "    {\n",
    "        \"news\": \"테슬라의 일론 머스크 CEO가 트위터를 인수한 후 대대적인 조직 개편을 단행했다. 직원 수를 대폭 줄이고 새로운 수익 모델을 도입하여 플랫폼의 지속가능성을 확보하려는 시도로 보인다.\",\n",
    "        \"keywords\": \"테슬라, 일론머스크, 트위터\"\n",
    "    },\n",
    "    {\n",
    "        \"news\": \"한국은행이 기준금리를 동결하기로 결정했다고 발표했다. 인플레이션 압력과 경제 성장률 둔화 사이에서 신중한 통화정책을 유지하겠다는 의지를 나타낸 것으로 분석된다.\",\n",
    "        \"keywords\": \"한국은행, 기준금리, 인플레이션\"\n",
    "    }\n",
    "]\n",
    "\n",
    "# 1. 예시 프롬프트 (대화형)\n",
    "example_prompt = ChatPromptTemplate.from_messages(\n",
    "    [\n",
    "        (\"human\", \"{news}\"),\n",
    "        (\"ai\", \"키워드: {keywords}\"),\n",
    "    ]\n",
    ")\n",
    "\n",
    "# 2. Few-Shot 프롬프트\n",
    "few_shot_prompt = FewShotChatMessagePromptTemplate(\n",
    "    example_prompt=example_prompt,\n",
    "    examples=examples,\n",
    ")\n",
    "\n",
    "\n",
    "# 3. 최종 프롬프트\n",
    "final_prompt = ChatPromptTemplate.from_messages([\n",
    "    (\"system\", \"뉴스 키워드 추출 전문가입니다. 핵심 키워드 3개를 추출하세요.\"),\n",
    "    few_shot_prompt,\n",
    "    (\"human\", \"{input}\")\n",
    "])\n"
   ]
  },
  {
   "cell_type": "code",
   "execution_count": 5,
   "id": "4fa57d42",
   "metadata": {},
   "outputs": [
    {
     "name": "stdout",
     "output_type": "stream",
     "text": [
      "뉴스 키워드 추출기 테스트 (ChatPromptTemplate 버전)\n",
      "=======================================================\n",
      "\n",
      "테스트 뉴스:\n",
      "\n",
      "제미나이 2.0 플래시는 현재 구글 AI 스튜디오(Google AI Studio) 및 버텍스 AI(Vertex AI)에서 제미나이 API를 통해 개발자에게 실험 모델로 제공됩니다. \n",
      "모든 개발자는 멀티모달 입력 및 텍스트 출력을 사용할 수 있으며, 텍스트 음성 변환(text-to-speech) 및 네이티브 이미지 생성은 일부 파트너들을 대상으로 제공됩니다. \n",
      "내년 1월에는 더 많은 모델 사이즈와 함께 일반에 공개될 예정입니다.\n",
      "\n",
      "\n",
      "추출된 키워드:\n",
      "키워드: 제미나이, 구글, AI\n"
     ]
    }
   ],
   "source": [
    "\n",
    "chain = final_prompt | llm | StrOutputParser()\n",
    "\n",
    "# 주어진 테스트 뉴스로 실행\n",
    "test_news = \"\"\"\n",
    "제미나이 2.0 플래시는 현재 구글 AI 스튜디오(Google AI Studio) 및 버텍스 AI(Vertex AI)에서 제미나이 API를 통해 개발자에게 실험 모델로 제공됩니다. \n",
    "모든 개발자는 멀티모달 입력 및 텍스트 출력을 사용할 수 있으며, 텍스트 음성 변환(text-to-speech) 및 네이티브 이미지 생성은 일부 파트너들을 대상으로 제공됩니다. \n",
    "내년 1월에는 더 많은 모델 사이즈와 함께 일반에 공개될 예정입니다.\n",
    "\"\"\"\n",
    "\n",
    "result = chain.invoke({\"input\": test_news})\n",
    "\n",
    "print(\"뉴스 키워드 추출기 테스트 (ChatPromptTemplate 버전)\")\n",
    "print(\"=======================================================\")\n",
    "print(\"\\n테스트 뉴스:\")\n",
    "print(test_news)\n",
    "print(\"\\n추출된 키워드:\")\n",
    "print(result)"
   ]
  }
 ],
 "metadata": {
  "kernelspec": {
   "display_name": "langchain-basic-kGdHTiMZ-py3.12",
   "language": "python",
   "name": "python3"
  },
  "language_info": {
   "codemirror_mode": {
    "name": "ipython",
    "version": 3
   },
   "file_extension": ".py",
   "mimetype": "text/x-python",
   "name": "python",
   "nbconvert_exporter": "python",
   "pygments_lexer": "ipython3",
   "version": "3.12.7"
  }
 },
 "nbformat": 4,
 "nbformat_minor": 5
}
