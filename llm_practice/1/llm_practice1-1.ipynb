{
 "cells": [
  {
   "cell_type": "code",
   "execution_count": 1,
   "id": "5ce19e96",
   "metadata": {},
   "outputs": [],
   "source": [
    "import os\n",
    "from dotenv import load_dotenv\n",
    "from langchain_core.prompts import ChatPromptTemplate\n",
    "from langchain_openai import ChatOpenAI \n",
    "\n",
    "\n",
    "load_dotenv()\n",
    "OPENAI_API_KEY = os.getenv(\"OPENAI_API_KEY\")"
   ]
  },
  {
   "cell_type": "code",
   "execution_count": null,
   "id": "3d998338",
   "metadata": {},
   "outputs": [],
   "source": [
    "# Groq API를 사용하는 ChatOpenAI 인스턴스 생성\n",
    "llm = ChatOpenAI(\n",
    "    api_key=OPENAI_API_KEY,\n",
    "    base_url=\"https://api.groq.com/openai/v1\",\n",
    "    model=\"meta-llama/llama-4-scout-17b-16e-instruct\",\n",
    "    temperature=0.7\n",
    ")"
   ]
  },
  {
   "cell_type": "code",
   "execution_count": 3,
   "id": "c80c5536",
   "metadata": {},
   "outputs": [
    {
     "data": {
      "text/plain": [
       "PromptTemplate(input_variables=['input'], input_types={}, partial_variables={}, template='\\n    You are an expert in AI Expert. Answer the question. \\n    <Question>: {input}로 만 만들 수 있는 요리를 추천해주고 그 레시피를 알려줘 단, 한국어만 사용해줘\")\\n    ')"
      ]
     },
     "execution_count": 3,
     "metadata": {},
     "output_type": "execute_result"
    }
   ],
   "source": [
    "from langchain_core.prompts import PromptTemplate\n",
    "\n",
    "prompt = PromptTemplate.from_template(\n",
    "    \"\"\"\n",
    "    You are an expert in AI Expert. Answer the question. \n",
    "    <Question>: {input}로 만 만들 수 있는 요리를 추천해주고 그 레시피를 알려줘 단, 한국어만 사용해줘\")\n",
    "    \"\"\")                                     \n",
    "prompt"
   ]
  },
  {
   "cell_type": "code",
   "execution_count": 4,
   "id": "16775e28",
   "metadata": {},
   "outputs": [],
   "source": [
    "from langchain_core.output_parsers import StrOutputParser\n",
    "\n",
    "# chain 연결 (LCEL) prompt + llm + outputparser\n",
    "output_parser = StrOutputParser()\n",
    "\n",
    "chain = prompt | llm | output_parser"
   ]
  },
  {
   "cell_type": "code",
   "execution_count": null,
   "id": "cb86c8dc",
   "metadata": {},
   "outputs": [
    {
     "name": "stdout",
     "output_type": "stream",
     "text": [
      "<generator object RunnableSequence.stream at 0x0000029296608310>\n",
      "김치, 밥, 계란으로 만들 수 있는 요리를 추천해 드리겠습니다. 그것은 바로 \"김치 계란밥\"입니다. 간단하지만 맛있는 이 요리의 레시피를 알려드리겠습니다.\n",
      "\n",
      "**재료:**\n",
      "\n",
      "* 김치 (잘게 썬 것)\n",
      "* 밥 (적당량)\n",
      "* 계란 (2-3개)\n",
      "\n",
      "**레시피:**\n",
      "\n",
      "1. **계란 준비**: 계란을 깨뜨려 그릇에 담고, 잘 섞어줍니다.\n",
      "2. **김치 준비**: 김치를 잘게 썰어둡니다.\n",
      "3. **밥 준비**: 밥을 준비합니다. 밥은 밥솥에서 갓 지은 밥을 사용하는 것이 좋습니다.\n",
      "4. **볶기**: 팬을 중불에 올리고, 썰어둔 김치를 넣고 볶습니다. 김치가 약간 부드러워질 때까지 볶아줍니다.\n",
      "5. **계란 넣기**: 볶고 있는 김치에 준비한 계란을 붓습니다. 계란이 반숙이 될 때까지 저어줍니다.\n",
      "6. **밥 넣기**: 이제 팬에 밥을 넣습니다. 밥과 계란, 김치가 잘 섞이도록 저어줍니다. 모든 재료가 고루 섞이고, 밥이 계란과 김치의 맛을 흡수하도록 합니다.\n",
      "7. **조리 마무리**: 모든 재료가 섞이면, 맛있는 김치 계란밥이 됩니다. 간이 부족하다면 소금으로 간을 맞춰줍니다.\n",
      "\n",
      "**팁:**\n",
      "\n",
      "* 김치는 신선한 것을 사용하는 것이 좋습니다.\n",
      "* 계란을 넣을 때 너무 센 불이 아니도록 주의합니다.\n",
      "* 본인의 기호에 따라 청양고추를 썰어 넣거나, 참기름을 조금 추가하여 맛을 더할 수 있습니다.\n",
      "\n",
      "이 레시피를 따라 김치 계란밥을 만들어 보세요. 간단하지만 아주 맛있는 한 끼 식사가 될 것입니다."
     ]
    }
   ],
   "source": [
    "try:\n",
    "    answer = chain.stream({\"input\": \"김치, 밥, 계란\"})\n",
    "    \n",
    "    for token in answer:\n",
    "        print(token, end=\"\", flush=True)\n",
    "except Exception as e:\n",
    "    print(f\"오류 발생: {e}\")"
   ]
  }
 ],
 "metadata": {
  "kernelspec": {
   "display_name": "langchain-basic-kGdHTiMZ-py3.12",
   "language": "python",
   "name": "python3"
  },
  "language_info": {
   "codemirror_mode": {
    "name": "ipython",
    "version": 3
   },
   "file_extension": ".py",
   "mimetype": "text/x-python",
   "name": "python",
   "nbconvert_exporter": "python",
   "pygments_lexer": "ipython3",
   "version": "3.12.7"
  }
 },
 "nbformat": 4,
 "nbformat_minor": 5
}
