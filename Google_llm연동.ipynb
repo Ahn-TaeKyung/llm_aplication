{
 "cells": [
  {
   "cell_type": "code",
   "execution_count": 3,
   "id": "12c3af44",
   "metadata": {},
   "outputs": [
    {
     "name": "stdout",
     "output_type": "stream",
     "text": [
      "AI\n"
     ]
    }
   ],
   "source": [
    "import os\n",
    "from dotenv import load_dotenv\n",
    "\n",
    "load_dotenv()\n",
    "GOOGLE_API_KEY = os.getenv(\"GOOGLE_API_KEY\")\n",
    "print(GOOGLE_API_KEY[:2])"
   ]
  },
  {
   "cell_type": "code",
   "execution_count": 4,
   "id": "d22c6f5b",
   "metadata": {},
   "outputs": [
    {
     "name": "stdout",
     "output_type": "stream",
     "text": [
      " Google Gemini Response:\n",
      "LangChain은 대규모 언어 모델(LLM)을 애플리케이션에 통합하기 위한 프레임워크입니다.  단순히 LLM을 호출하는 것 이상으로,  다양한 기능을 제공하여 LLM 기반 애플리케이션 개발을 더욱 쉽고 효율적으로 만들어줍니다.  핵심 기능은 다음과 같습니다.\n",
      "\n",
      "* **모듈화:** LangChain은 LLM, 프로세스, 메모리 등을 모듈로 분리하여, 각 구성 요소를 독립적으로 선택하고 교체할 수 있도록 합니다. 이는 개발의 유연성과 재사용성을 높여줍니다.  다양한 LLM(OpenAI, Hugging Face 등)과 데이터 저장소(벡터 데이터베이스 등)를 쉽게 연결할 수 있습니다.\n",
      "\n",
      "* **체인(Chains):** 여러 LLM 호출을 순차적으로 또는 병렬적으로 연결하여 복잡한 작업을 수행할 수 있도록 합니다. 예를 들어, 문서 요약, 질문 답변, 챗봇 등을 구현할 때 각 단계를 체인으로 연결하여 구현할 수 있습니다.  이는 단순한 LLM 호출보다 훨씬 강력하고 복잡한 작업을 가능하게 합니다.\n",
      "\n",
      "* **인덱싱 및 검색:**  외부 데이터 소스(문서, 데이터베이스 등)를 인덱싱하고 검색하여 LLM이 외부 정보를 활용할 수 있도록 합니다.  LLM이 단순히 학습 데이터에만 의존하는 것이 아니라, 최신 정보나 특정 데이터에 접근하여 더욱 정확하고 유용한 응답을 생성할 수 있도록 지원합니다.  벡터 데이터베이스를 활용하여 유사성 검색을 수행하는 기능도 제공합니다.\n",
      "\n",
      "* **메모리:**  대화형 애플리케이션에서 이전 대화 내용을 기억하고 활용할 수 있도록 메모리 기능을 제공합니다.  이를 통해 LLM은 사용자와의 상호작용 맥락을 이해하고 더욱 자연스러운 대화를 진행할 수 있습니다.  다양한 메모리 유형(단기 메모리, 장기 메모리 등)을 지원합니다.\n",
      "\n",
      "* **에이전트(Agents):** LLM이 외부 도구(웹 검색, 계산기 등)를 사용하여 작업을 수행할 수 있도록 합니다.  LLM은 에이전트를 통해 필요한 정보를 수집하고, 작업을 완료하는 데 필요한 도구를 선택하고 사용할 수 있습니다.  이는 LLM의 기능을 훨씬 확장시켜 더욱 다양한 작업을 수행할 수 있도록 합니다.\n",
      "\n",
      "\n",
      "요약하자면, LangChain은 LLM을 기반으로 한 애플리케이션 개발을 위한 강력하고 유연한 프레임워크입니다.  모듈화, 체인, 인덱싱, 메모리, 에이전트 등의 기능을 통해 개발자는 복잡하고 강력한 LLM 기반 애플리케이션을 보다 쉽게 구축할 수 있습니다.  단순한 LLM 호출을 넘어, 실제 문제 해결에 적용 가능한 LLM 기반 시스템을 구축하는 데 필수적인 도구라고 할 수 있습니다.\n"
     ]
    }
   ],
   "source": [
    "from langchain_google_genai import ChatGoogleGenerativeAI\n",
    "from langchain_core.prompts import ChatPromptTemplate\n",
    "    \n",
    "# API 키 설정\n",
    "# os.environ[\"GOOGLE_API_KEY\"] = \"your-google-api-key\"\n",
    "\n",
    "# 모델 초기화\n",
    "llm = ChatGoogleGenerativeAI(\n",
    "    model=\"gemini-1.5-flash\",  # 또는 \"gemini-pro-vision\"\n",
    "    temperature=0.3    \n",
    ")\n",
    "\n",
    "# 프롬프트 설정\n",
    "prompt = ChatPromptTemplate.from_messages([\n",
    "    (\"system\", \"당신은 AI 전문가입니다다.\"),\n",
    "    (\"human\", \"{topic}은 무엇인가요?\")\n",
    "])\n",
    "\n",
    "# 체인 실행\n",
    "chain = prompt | llm\n",
    "response = chain.invoke({\"topic\": \"LangChain\"})\n",
    "\n",
    "print(\" Google Gemini Response:\")\n",
    "print(response.content)"
   ]
  },
  {
   "cell_type": "code",
   "execution_count": 5,
   "id": "88c97ec5",
   "metadata": {},
   "outputs": [
    {
     "name": "stdout",
     "output_type": "stream",
     "text": [
      "Upstage Response:\n",
      "LangChain은 AI 애플리케이션을 구축하기 위한 강력한 프레임워크입니다.\n"
     ]
    }
   ],
   "source": [
    "from langchain_upstage import ChatUpstage\n",
    "from langchain_core.prompts import ChatPromptTemplate\n",
    "\n",
    "translation_prompt = ChatPromptTemplate.from_messages([\n",
    "        (\"system\", \"You are a professional translator specializing in Korean-English translation.\"),\n",
    "        (\"human\", \"Translate this from {source_lang} to {target_lang}: {text}\")\n",
    "    ])\n",
    "\n",
    "llm = ChatUpstage(\n",
    "        model=\"solar-pro\",\n",
    "        base_url=\"https://api.upstage.ai/v1\",\n",
    "        temperature=0.5\n",
    "    )\n",
    "\n",
    "# 체인 실행\n",
    "chain = translation_prompt | llm\n",
    "\n",
    "response = chain.invoke({\n",
    "    \"source_lang\": \"English\",\n",
    "    \"target_lang\": \"Korean\", \n",
    "    \"text\": \"LangChain is a powerful framework for building AI applications.\"\n",
    "})\n",
    "\n",
    "print(\"Upstage Response:\")\n",
    "print(response.content)"
   ]
  }
 ],
 "metadata": {
  "kernelspec": {
   "display_name": "langchain-basic-kGdHTiMZ-py3.12",
   "language": "python",
   "name": "python3"
  },
  "language_info": {
   "codemirror_mode": {
    "name": "ipython",
    "version": 3
   },
   "file_extension": ".py",
   "mimetype": "text/x-python",
   "name": "python",
   "nbconvert_exporter": "python",
   "pygments_lexer": "ipython3",
   "version": "3.12.7"
  }
 },
 "nbformat": 4,
 "nbformat_minor": 5
}
